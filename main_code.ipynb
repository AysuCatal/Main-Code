{
 "cells": [
  {
   "cell_type": "markdown",
   "id": "a00ae317",
   "metadata": {},
   "source": [
    "## This code is written by A. Aysu Çatal (a.aysucatal@gmail.com) to predict Af temperature and thermal hysteresis of NiTiHf alloy with literature data.\n",
    "## August 2020\n",
    "## If you want to adopt this code or our dataset to your project, you can refer to our paper \"Design of a NiTiHf shape memory alloy with an austenite finish temperature beyond 400 °C utilizing artificial intelligence\", accepted for publication in the Journal of Alloys and Compounds"
   ]
  },
  {
   "cell_type": "code",
   "execution_count": null,
   "id": "13eb9e39",
   "metadata": {},
   "outputs": [],
   "source": [
    "import pandas as pd\n",
    "import numpy as np\n",
    "import tensorflow as tf\n",
    "\n",
    "from sklearn.model_selection import KFold, StratifiedKFold, cross_val_score, train_test_split\n",
    "from sklearn.preprocessing import StandardScaler, MinMaxScaler\n",
    "from sklearn.preprocessing import normalize\n",
    "from sklearn.pipeline import Pipeline\n",
    "import matplotlib.pyplot as plt\n",
    "from matplotlib import style\n",
    "from pandas import read_csv\n",
    "from sklearn.metrics import mean_squared_error, r2_score\n",
    "\n",
    "from sklearn.preprocessing import PowerTransformer\n",
    "import scipy.stats\n",
    "from scipy.stats.stats import pearsonr\n",
    "from sklearn.preprocessing import PolynomialFeatures\n",
    "from sklearn import linear_model\n",
    "\n",
    "from tensorflow import keras\n",
    "from keras.models import Sequential\n",
    "from tensorflow.keras import layers\n",
    "from tensorflow.keras import initializers\n",
    "from keras.layers import Dense\n",
    "from keras import regularizers, losses"
   ]
  },
  {
   "cell_type": "code",
   "execution_count": null,
   "id": "3ddf323e",
   "metadata": {},
   "outputs": [],
   "source": [
    "data = pd.read_csv(\"dataset_original.csv\", header=0, index_col=False ,sep=';', decimal='.')"
   ]
  },
  {
   "cell_type": "code",
   "execution_count": null,
   "id": "18e38e16",
   "metadata": {},
   "outputs": [],
   "source": [
    "data"
   ]
  },
  {
   "cell_type": "code",
   "execution_count": null,
   "id": "c3c4f3b5",
   "metadata": {},
   "outputs": [],
   "source": [
    "pearson_matrix = data.corr()\n",
    "pearson_matrix = pearson_matrix.values\n",
    "feature_names = list(data.columns)"
   ]
  },
  {
   "cell_type": "code",
   "execution_count": null,
   "id": "6e581638",
   "metadata": {},
   "outputs": [],
   "source": [
    "fig, ax = plt.subplots()\n",
    "im = ax.imshow(pearson_matrix, cmap='seismic', interpolation='nearest')\n",
    "ax.set_xticks(np.arange(len(pearson_matrix)))\n",
    "ax.set_yticks(np.arange(len(pearson_matrix)))\n",
    "plt.setp(ax.get_xticklabels(), rotation=45, ha=\"right\",\n",
    "         rotation_mode=\"anchor\")\n",
    "ax.set_xticklabels(feature_names)\n",
    "ax.set_yticklabels(feature_names)\n",
    "plt.show()"
   ]
  },
  {
   "cell_type": "markdown",
   "id": "df0de2a6",
   "metadata": {},
   "source": [
    "## At this point, we exported and examined pearson matrix and rearranged the features' order for further implications of feature subset selection"
   ]
  },
  {
   "cell_type": "code",
   "execution_count": null,
   "id": "c56d4a8a",
   "metadata": {},
   "outputs": [],
   "source": [
    "Ni = data[\"Ni\"]\n",
    "Ti =  data[\"Ti\"]\n",
    "Hf = data[\"Hf\"]\n",
    "Cv = data[\"Cv\"]\n",
    "melt = data[\"melting point\"]\n",
    "elec = data[\"electronegativity\"]\n",
    "ar = data[\"atomic radius\"]\n",
    "ir = data[\"ionic radius\"]\n",
    "mass = data[\"atomic mass\"]\n",
    "wcr = data[\"wcr\"]\n",
    "hom_T = data[\"hom.T\"]\n",
    "hom_time = data[\"hom.time\"]\n",
    "sht_T = data[\"sht.T\"]\n",
    "sht_time = data[\"sht.time\"]\n",
    "ag_T = data[\"ag.T\"]\n",
    "ag_time = data[\"ag.time\"]\n",
    "Af = data[\"Af\"]\n",
    "Hyst = data[\"Hysteresis\"]"
   ]
  },
  {
   "cell_type": "code",
   "execution_count": null,
   "id": "8ceeb66e",
   "metadata": {},
   "outputs": [],
   "source": [
    "# Dataset is rearranged according to correlations: \n",
    "# (feature with higher correlations are put at the end)\n",
    "data_rac = pd.concat([Ni, Ti, hom_T, hom_time, sht_T, sht_time, ag_T, ag_time, \n",
    "                      ar, elec, wcr, Cv, ir, mass, melt, Hf, Af, Hyst], axis=1) \n",
    "data_rac.head(5) #"
   ]
  },
  {
   "cell_type": "code",
   "execution_count": null,
   "id": "45ef2519",
   "metadata": {},
   "outputs": [],
   "source": [
    "Af_dataset = data_rac.drop(columns=['Hysteresis'], inplace=False)\n",
    "Hyst_dataset = data_rac.drop(columns=['Af'], inplace=False)"
   ]
  },
  {
   "cell_type": "markdown",
   "id": "a5d2f025",
   "metadata": {},
   "source": [
    "# Normalization and Transformation:"
   ]
  },
  {
   "cell_type": "code",
   "execution_count": null,
   "id": "b06016dc",
   "metadata": {},
   "outputs": [],
   "source": [
    "inputs_un = Af_dataset.iloc[:,0:-1]\n",
    "targets = np.sqrt(Af_dataset.iloc[:,-1])\n",
    "input_headers = list(inputs_un.columns)"
   ]
  },
  {
   "cell_type": "code",
   "execution_count": null,
   "id": "3024860a",
   "metadata": {},
   "outputs": [],
   "source": [
    "scaler = MinMaxScaler()\n",
    "inputs = scaler.fit_transform(inputs_un)\n",
    "inputs = pd.DataFrame(inputs, columns = input_headers)"
   ]
  },
  {
   "cell_type": "code",
   "execution_count": null,
   "id": "d2f7929b",
   "metadata": {},
   "outputs": [],
   "source": [
    "plt.boxplot(inputs)\n",
    "plt.show()"
   ]
  },
  {
   "cell_type": "code",
   "execution_count": null,
   "id": "ff20772f",
   "metadata": {},
   "outputs": [],
   "source": [
    "plt.hist(targets)\n",
    "plt.show()"
   ]
  },
  {
   "cell_type": "markdown",
   "id": "f57e63f9",
   "metadata": {},
   "source": [
    "# NN model"
   ]
  },
  {
   "cell_type": "code",
   "execution_count": null,
   "id": "ce22c9bf",
   "metadata": {},
   "outputs": [],
   "source": [
    "inputs = np.array(inputs)  #according to feature subset selection number of columns should be changed\n",
    "n_rows, n_feature = np.shape(inputs)"
   ]
  },
  {
   "cell_type": "code",
   "execution_count": null,
   "id": "0801eed7",
   "metadata": {},
   "outputs": [],
   "source": [
    "# splitting test and train data:\n",
    "X_train, X_test, Y_train, Y_test = train_test_split(inputs, targets, test_size=0.2, random_state=42)\n",
    "\n",
    "batch_size = 80\n",
    "no_epochs = 1000\n",
    "\n",
    "# defining the optimizer\n",
    "tf.keras.optimizers.Adam(\n",
    "    learning_rate=0.1, beta_1=0.9, beta_2=0.999, epsilon=1e-07, amsgrad=True,\n",
    "    name='Adam'\n",
    ")\n",
    "\n",
    "#defining model parameters\n",
    "node=36\n",
    "alfa=0.001\n",
    "initializer = tf.keras.initializers.GlorotNormal(seed=None)\n",
    "\n",
    "#construction of model with 5 hidden layers\n",
    "model = Sequential([\n",
    "    (Dense(node, input_dim=n_feature, kernel_initializer=initializer, \n",
    "           activation='relu', kernel_regularizer=regularizers.l2(alfa))),\n",
    "    (Dense(node, kernel_initializer=initializer, activation='relu',\n",
    "           kernel_regularizer=regularizers.l2(alfa))),\n",
    "    (Dense(node, kernel_initializer=initializer, activation='relu',\n",
    "           kernel_regularizer=regularizers.l2(alfa))), \n",
    "    (Dense(node, kernel_initializer=initializer, activation='relu',\n",
    "           kernel_regularizer=regularizers.l2(alfa))), \n",
    "    (Dense(node, kernel_initializer=initializer, activation='relu',\n",
    "           kernel_regularizer=regularizers.l2(alfa))), \n",
    "    (Dense(1,  kernel_initializer=initializer, activation='linear')) \n",
    "])\n",
    "\n",
    "\n",
    "model.compile(loss='mse',\n",
    "            optimizer= 'Adam',\n",
    "            metrics=['mse'])\n",
    "\n",
    "# training of the data:\n",
    "history = model.fit(X_train, Y_train,\n",
    "          batch_size=batch_size,\n",
    "          epochs=no_epochs,\n",
    "          verbose=0)\n",
    "\n",
    "\n",
    "# Performance evaluation w/ test data:\n",
    "score = model.evaluate(X_test, Y_test, verbose=0)\n",
    "\n",
    "print(f'> MSE: {score}')"
   ]
  },
  {
   "cell_type": "code",
   "execution_count": null,
   "id": "e1c10b95",
   "metadata": {},
   "outputs": [],
   "source": [
    "# predictions:\n",
    "test_predictions = model.predict(X_test).flatten()\n",
    "train_predictions = model.predict(X_train).flatten()"
   ]
  },
  {
   "cell_type": "code",
   "execution_count": null,
   "id": "55985c0b",
   "metadata": {},
   "outputs": [],
   "source": [
    "score_test = model.evaluate(X_test, Y_test,  verbose=0)\n",
    "r2_test = r2_score(Y_test, test_predictions)\n",
    "\n",
    "score_train = model.evaluate(X_train, Y_train,  verbose=0)\n",
    "r2_train = r2_score(Y_train, train_predictions)\n",
    "\n",
    "print(f'> test: MSE: {score_test[0]}, R2: {r2_test}')\n",
    "print(f'> train: MSE: {score_train[0]}, R2: {r2_train}')"
   ]
  },
  {
   "cell_type": "code",
   "execution_count": null,
   "id": "f50c6921",
   "metadata": {},
   "outputs": [],
   "source": [
    "#Transformed values\n",
    "a = plt.axes(aspect='equal')\n",
    "plt.scatter(Y_train, train_predictions, c='#9467bd')\n",
    "\n",
    "plt.scatter(Y_test, test_predictions, c='#8c564b')\n",
    "\n",
    "plt.xlabel('True ')\n",
    "plt.ylabel('Predictions ')\n",
    "lims = [np.min(targets)*0.9-1,np.max(targets)*1.1]\n",
    "plt.xlim(lims)\n",
    "plt.ylim(lims)\n",
    "\n",
    "_ = plt.plot(lims, lims)"
   ]
  },
  {
   "cell_type": "code",
   "execution_count": null,
   "id": "9bd8a3cc",
   "metadata": {},
   "outputs": [],
   "source": [
    "#Untransformed values\n",
    "a = plt.axes(aspect='equal')\n",
    "plt.scatter(Y_train**2, train_predictions**2, c='#9467bd')\n",
    "\n",
    "plt.scatter(Y_test**2, test_predictions**2, c='#8c564b')\n",
    "\n",
    "plt.xlabel('True ')\n",
    "plt.ylabel('Predictions ')\n",
    "lims = [(np.min(targets)**2)*0.9-1,(np.max(targets)**2)*1.1]\n",
    "plt.xlim(lims)\n",
    "plt.ylim(lims)\n",
    "\n",
    "_ = plt.plot(lims, lims)"
   ]
  },
  {
   "cell_type": "code",
   "execution_count": null,
   "id": "ece7a1c6",
   "metadata": {},
   "outputs": [],
   "source": [
    "# MSEs of untransformed data (in degree celcius)\n",
    "loss_test = np.sqrt(mean_squared_error(test_predictions**2,Y_test**2))\n",
    "loss_train = np.sqrt(mean_squared_error(train_predictions**2, Y_train**2))\n",
    "print(loss_test, loss_train)"
   ]
  },
  {
   "cell_type": "code",
   "execution_count": null,
   "id": "6f0bc069",
   "metadata": {},
   "outputs": [],
   "source": [
    "# Concating of results:\n",
    "result_train=pd.concat([pd.DataFrame(scaler.inverse_transform(X_train)).reset_index(drop=True),\n",
    "                        pd.DataFrame(train_predictions**2).reset_index(drop=True), \n",
    "                        pd.DataFrame(Y_train**2).reset_index(drop=True)], axis=1, ignore_index=True)\n",
    "result_test=pd.concat([pd.DataFrame(scaler.inverse_transform(X_test)).reset_index(drop=True),\n",
    "                       pd.DataFrame(test_predictions**2).reset_index(drop=True), \n",
    "                       pd.DataFrame(Y_test**2).reset_index(drop=True)], axis=1, ignore_index=True)\n",
    "results = pd.concat([result_test, result_train], axis=0, ignore_index=True)\n",
    "results"
   ]
  },
  {
   "cell_type": "code",
   "execution_count": null,
   "id": "95223240",
   "metadata": {},
   "outputs": [],
   "source": [
    "results.to_csv (r'NiTiHf_NN_result.csv', index = False, header=True,sep=',', decimal='.')"
   ]
  },
  {
   "cell_type": "code",
   "execution_count": null,
   "id": "5387074a",
   "metadata": {},
   "outputs": [],
   "source": [
    "# For designing of new alloys, you may use this command: new_predictions = model.predict(new_alloy_dataset)"
   ]
  },
  {
   "cell_type": "code",
   "execution_count": null,
   "id": "7aa2112a",
   "metadata": {},
   "outputs": [],
   "source": [
    "X_test.shape"
   ]
  },
  {
   "cell_type": "markdown",
   "id": "6841b225",
   "metadata": {},
   "source": [
    "# Feature Selection"
   ]
  },
  {
   "cell_type": "code",
   "execution_count": null,
   "id": "81e42684",
   "metadata": {},
   "outputs": [],
   "source": [
    "batch_size =80\n",
    "no_epochs = 1000\n",
    "\n",
    "# K-fold Cross Validation \n",
    "num_folds = 5 \n",
    "\n",
    "subset_saves=[]\n",
    "\n",
    "for subset in range (16,7,-1):    \n",
    "    inputs_sub = np.array(inputs[:,0:subset])\n",
    "\n",
    "    kfold = KFold(n_splits=num_folds, shuffle=True)\n",
    "    fold_no = 1\n",
    "    j=0\n",
    "    scores=[]\n",
    "    mse_per_fold = []\n",
    "    train_mse_per_fold = []\n",
    "    tf.keras.optimizers.Adam(\n",
    "        learning_rate=0.03, beta_1=0.9, beta_2=0.999, epsilon=1e-07, amsgrad=True,\n",
    "        name='Adam'\n",
    "    )\n",
    "    for train_index, test_index in kfold.split(inputs):  # training of data in 5 folds \n",
    "\n",
    "        X_train, X_test = inputs_sub[train_index],  inputs_sub[test_index]\n",
    "        Y_train, Y_test = targets[train_index], targets[test_index]\n",
    "        \n",
    "        initializer = tf.keras.initializers.GlorotNormal(seed=None)\n",
    "        \n",
    "        node = 30\n",
    "        reg_parameter = 0.001\n",
    "\n",
    "        model_sub = Sequential([\n",
    "            (Dense(node, input_dim=subset, kernel_initializer=initializer, activation='relu',\n",
    "                   kernel_regularizer=regularizers.l2(reg_parameter))),\n",
    "            (Dense(node, kernel_initializer=initializer, activation='relu',\n",
    "                   kernel_regularizer=regularizers.l2(reg_parameter))),\n",
    "            (Dense(node, kernel_initializer=initializer, activation='relu',\n",
    "                   kernel_regularizer=regularizers.l2(reg_parameter))),\n",
    "            (Dense(node, kernel_initializer=initializer, activation='relu',\n",
    "                   kernel_regularizer=regularizers.l2(reg_parameter))),\n",
    "            (Dense(node, kernel_initializer=initializer, activation='relu',\n",
    "                   kernel_regularizer=regularizers.l2(reg_parameter))),\n",
    "            (Dense(1, kernel_initializer=initializer, activation='linear'))\n",
    "            ])\n",
    "\n",
    "        model_sub.compile(loss='mse',\n",
    "                optimizer='adam',\n",
    "                metrics=['mse'])\n",
    "\n",
    "        history = model_sub.fit(X_train, Y_train,\n",
    "              batch_size=32,\n",
    "              epochs=no_epochs,\n",
    "              verbose=0)\n",
    "\n",
    "        scores.append(model_sub.evaluate(X_test, Y_test, verbose=0))\n",
    "        mse_per_fold.append(scores[j][:1])\n",
    "\n",
    "        trainmse = model_sub.evaluate(X_train, Y_train,  verbose=0)\n",
    "        train_mse_per_fold.append(trainmse)\n",
    "\n",
    "        fold_no = fold_no + 1\n",
    "        j = j + 1\n",
    "\n",
    "        fold_no=1\n",
    "       \n",
    "    meanscore=np.mean(mse_per_fold) # average mse of 5 folds for selected subset\n",
    "    meanscore_train=np.mean(train_mse_per_fold)\n",
    "\n",
    "    subset_saves.append([subset, meanscore, meanscore_train]) \n"
   ]
  },
  {
   "cell_type": "code",
   "execution_count": null,
   "id": "34d9000f",
   "metadata": {},
   "outputs": [],
   "source": [
    "subset_saves = pd.DataFrame(subset_saves, columns = ('# of features', 'test score', 'train score'))\n",
    "subset_saves"
   ]
  },
  {
   "cell_type": "code",
   "execution_count": null,
   "id": "2bf686b4",
   "metadata": {},
   "outputs": [],
   "source": [
    "subset_saves.to_csv (r'NN_subset_selection.csv', index = False, header=True,sep=',', decimal='.')"
   ]
  },
  {
   "cell_type": "markdown",
   "id": "79bb8e2a",
   "metadata": {},
   "source": [
    "# Optimization of hyperparameters:"
   ]
  },
  {
   "cell_type": "code",
   "execution_count": null,
   "id": "2a0d1a6f",
   "metadata": {},
   "outputs": [],
   "source": [
    "batch_size =80\n",
    "no_epochs = 1000\n",
    "\n",
    "# K-fold Cross Validation w/ 5 folds\n",
    "num_folds = 5\n",
    "msesaves=[]\n",
    "\n",
    "limit=10000\n",
    "\n",
    "for nnode in range(15,48,6): \n",
    "    for alpha in range (1,11,3): \n",
    "        alphan=alpha/1000 \n",
    "        kfold = KFold(n_splits=num_folds, shuffle=True)\n",
    "        fold_no = 1\n",
    "        j=0\n",
    "        scores=[]\n",
    "        mse_per_fold = []\n",
    "        train_mse_per_fold = []\n",
    "        tf.keras.optimizers.Adam(\n",
    "            learning_rate=0.03, beta_1=0.9, beta_2=0.999, epsilon=1e-07, amsgrad=True,\n",
    "            name='Adam'\n",
    "        )\n",
    "        for train_index, test_index in kfold.split(inputs):\n",
    "            \n",
    "            X_train, X_test = inputs[train_index],  inputs[test_index]\n",
    "            Y_train, Y_test = targets[train_index], targets[test_index]\n",
    "                \n",
    "            initializer = tf.keras.initializers.GlorotNormal(seed=None)\n",
    "\n",
    "            model_opt = Sequential([\n",
    "                (Dense(nnode, input_dim=n_feature, kernel_initializer=initializer, activation='relu',\n",
    "                       kernel_regularizer=regularizers.l2(alphan))),\n",
    "                (Dense(nnode, kernel_initializer=initializer, activation='relu',\n",
    "                       kernel_regularizer=regularizers.l2(alphan))),\n",
    "                (Dense(nnode, kernel_initializer=initializer, activation='relu',\n",
    "                       kernel_regularizer=regularizers.l2(alphan))),\n",
    "                (Dense(nnode, kernel_initializer=initializer, activation='relu',\n",
    "                       kernel_regularizer=regularizers.l2(alphan))),\n",
    "                (Dense(nnode, kernel_initializer=initializer, activation='relu',\n",
    "                       kernel_regularizer=regularizers.l2(alphan))),\n",
    "                (Dense(1, kernel_initializer=initializer, activation='linear'))\n",
    "                ])\n",
    "\n",
    "            \n",
    "            model_opt.compile(loss='mse',\n",
    "                    optimizer='adam',\n",
    "                    metrics=['mse'])\n",
    "\n",
    "            \n",
    "            history = model_opt.fit(X_train, Y_train,\n",
    "                  batch_size=32,\n",
    "                  epochs=no_epochs,\n",
    "                  verbose=0)\n",
    "\n",
    "            \n",
    "            scores.append(model_opt.evaluate(X_test, Y_test, verbose=0))\n",
    "            mse_per_fold.append(scores[j][:1])\n",
    "                        \n",
    "            trainmse = model_opt.evaluate(X_train, Y_train,  verbose=0)\n",
    "            train_mse_per_fold.append(trainmse)\n",
    "\n",
    "           \n",
    "            fold_no = fold_no + 1\n",
    "            j = j + 1\n",
    "\n",
    "            fold_no=1\n",
    "            \n",
    "\n",
    "\n",
    "        meanscore=np.mean(mse_per_fold)\n",
    "        meanscore_train=np.mean(train_mse_per_fold)\n",
    "\n",
    "        msesaves.append([alphan, nnode, meanscore, meanscore_train])\n",
    "\n",
    "\n",
    "\n",
    "        if meanscore < limit:\n",
    "            nnode_op=nnode\n",
    "            alpha_op=alphan\n",
    "            limit=meanscore"
   ]
  },
  {
   "cell_type": "code",
   "execution_count": null,
   "id": "b7273839",
   "metadata": {},
   "outputs": [],
   "source": [
    "msesaves = pd.DataFrame(msesaves, columns = ('alpha','# of nodes', 'test score', 'train score'))\n",
    "msesaves"
   ]
  },
  {
   "cell_type": "code",
   "execution_count": null,
   "id": "bd5b934b",
   "metadata": {},
   "outputs": [],
   "source": [
    "msesaves.to_csv (r'NN_optimization.csv', index = False, header=True,sep=',', decimal='.')"
   ]
  }
 ],
 "metadata": {
  "kernelspec": {
   "display_name": "Python 3",
   "language": "python",
   "name": "python3"
  },
  "language_info": {
   "codemirror_mode": {
    "name": "ipython",
    "version": 3
   },
   "file_extension": ".py",
   "mimetype": "text/x-python",
   "name": "python",
   "nbconvert_exporter": "python",
   "pygments_lexer": "ipython3",
   "version": "3.8.8"
  }
 },
 "nbformat": 4,
 "nbformat_minor": 5
}
